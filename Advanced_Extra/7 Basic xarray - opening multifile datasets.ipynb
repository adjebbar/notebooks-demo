{
 "cells": [
  {
   "cell_type": "markdown",
   "metadata": {},
   "source": [
    "# Opening multifile datasets"
   ]
  },
  {
   "cell_type": "markdown",
   "metadata": {},
   "source": [
    "In many cases large datasets are spead over multiple files, so no individual file becomes too large, and operating on a subset of the data is easier without having to read the whole dataset"
   ]
  },
  {
   "cell_type": "markdown",
   "metadata": {},
   "source": [
    "xarray can open multiple files as a single xarray `Dataset` with the `open_mfdataset` command. Pass it either a list of files to open, or a wildcard string that matches the desired files. \n",
    "\n",
    "This is useful as it can skip wasteful steps of creating intermediate datasets which are aggregations of existing data. Just load it all up and select out what is required."
   ]
  },
  {
   "cell_type": "markdown",
   "metadata": {},
   "source": [
    "Start with the required imports"
   ]
  },
  {
   "cell_type": "code",
   "execution_count": 1,
   "metadata": {},
   "outputs": [],
   "source": [
    "import xarray"
   ]
  },
  {
   "cell_type": "code",
   "execution_count": 2,
   "metadata": {},
   "outputs": [],
   "source": [
    "%matplotlib inline"
   ]
  },
  {
   "cell_type": "markdown",
   "metadata": {},
   "source": [
    "Wildcards only work when accessing files on a local filesystem, for opendap it is necessary to  pass a list of urls. Below a list of urls are created from the individual filenames which are joined to a prefix."
   ]
  },
  {
   "cell_type": "code",
   "execution_count": 3,
   "metadata": {},
   "outputs": [
    {
     "data": {
      "text/plain": [
       "['http://dapds00.nci.org.au/thredds/dodsC/rr3/CMIP5/output1/CSIRO-BOM/ACCESS1-3/historical/day/atmos/day/r1i1p1/latest/tas/tas_day_ACCESS1-3_historical_r1i1p1_18500101-18741231.nc',\n",
       " 'http://dapds00.nci.org.au/thredds/dodsC/rr3/CMIP5/output1/CSIRO-BOM/ACCESS1-3/historical/day/atmos/day/r1i1p1/latest/tas/tas_day_ACCESS1-3_historical_r1i1p1_18750101-18991231.nc',\n",
       " 'http://dapds00.nci.org.au/thredds/dodsC/rr3/CMIP5/output1/CSIRO-BOM/ACCESS1-3/historical/day/atmos/day/r1i1p1/latest/tas/tas_day_ACCESS1-3_historical_r1i1p1_19000101-19241231.nc']"
      ]
     },
     "execution_count": 3,
     "metadata": {},
     "output_type": "execute_result"
    }
   ],
   "source": [
    "files = ['tas_day_ACCESS1-3_historical_r1i1p1_18500101-18741231.nc', \n",
    "        'tas_day_ACCESS1-3_historical_r1i1p1_18750101-18991231.nc',\n",
    "        'tas_day_ACCESS1-3_historical_r1i1p1_19000101-19241231.nc']\n",
    "prefix = 'http://dapds00.nci.org.au/thredds/dodsC/rr3/CMIP5/output1/CSIRO-BOM/ACCESS1-3/historical/day/atmos/day/r1i1p1/latest/tas/'\n",
    "urls = [prefix+file for file in files]\n",
    "urls"
   ]
  },
  {
   "cell_type": "markdown",
   "metadata": {},
   "source": [
    "This list is then passed to `open_mfdataset`"
   ]
  },
  {
   "cell_type": "code",
   "execution_count": 4,
   "metadata": {},
   "outputs": [],
   "source": [
    "ds = xarray.open_mfdataset(urls)"
   ]
  },
  {
   "cell_type": "markdown",
   "metadata": {},
   "source": [
    "The resulting dataset is pretty big, the `nbytes` attribute gives the size of the dataset in bytes. In this case it is over 3GB. The `tas` variable has 27393 daily time steps. It doesn't take a long time to load the dataset, as it is only metadata, but loading the underlying data could be time consuming depending on how much needs to be read."
   ]
  },
  {
   "cell_type": "code",
   "execution_count": 5,
   "metadata": {},
   "outputs": [
    {
     "data": {
      "text/plain": [
       "3.198847672"
      ]
     },
     "execution_count": 5,
     "metadata": {},
     "output_type": "execute_result"
    }
   ],
   "source": [
    "ds.nbytes/1000**3"
   ]
  },
  {
   "cell_type": "code",
   "execution_count": 6,
   "metadata": {},
   "outputs": [
    {
     "data": {
      "text/plain": [
       "<xarray.Dataset>\n",
       "Dimensions:    (bnds: 2, lat: 145, lon: 192, time: 27393)\n",
       "Coordinates:\n",
       "  * lat        (lat) float64 -90.0 -88.75 -87.5 -86.25 ... 86.25 87.5 88.75 90.0\n",
       "  * lon        (lon) float64 0.0 1.875 3.75 5.625 ... 352.5 354.4 356.2 358.1\n",
       "    height     float64 1.5\n",
       "  * time       (time) datetime64[ns] 1850-01-01T12:00:00 ... 1924-12-31T12:00:00\n",
       "Dimensions without coordinates: bnds\n",
       "Data variables:\n",
       "    time_bnds  (time, bnds) datetime64[ns] dask.array<shape=(27393, 2), chunksize=(9131, 2)>\n",
       "    lat_bnds   (time, lat, bnds) float64 dask.array<shape=(27393, 145, 2), chunksize=(9131, 145, 2)>\n",
       "    lon_bnds   (time, lon, bnds) float64 dask.array<shape=(27393, 192, 2), chunksize=(9131, 192, 2)>\n",
       "    tas        (time, lat, lon) float32 dask.array<shape=(27393, 145, 192), chunksize=(9131, 145, 192)>\n",
       "Attributes:\n",
       "    institution:                     CSIRO (Commonwealth Scientific and Indus...\n",
       "    institute_id:                    CSIRO-BOM\n",
       "    experiment_id:                   historical\n",
       "    source:                          ACCESS1.3 2011. Atmosphere: AGCM v1.0 (N...\n",
       "    model_id:                        ACCESS1.3\n",
       "    forcing:                         GHG, Oz, SA, Sl, Vl, BC, OC, (GHG = CO2,...\n",
       "    parent_experiment_id:            piControl\n",
       "    parent_experiment_rip:           r1i1p1\n",
       "    branch_time:                     90945.0\n",
       "    contact:                         The ACCESS wiki: http://wiki.csiro.au/co...\n",
       "    history:                         CMIP5 compliant file produced from raw A...\n",
       "    references:                      See http://wiki.csiro.au/confluence/disp...\n",
       "    initialization_method:           1\n",
       "    physics_version:                 1\n",
       "    tracking_id:                     d9824016-bde8-4883-b111-9385b3d023cd\n",
       "    version_number:                  v20130227\n",
       "    product:                         output\n",
       "    experiment:                      historical\n",
       "    frequency:                       day\n",
       "    creation_date:                   2013-02-26T01:40:45Z\n",
       "    Conventions:                     CF-1.4\n",
       "    project_id:                      CMIP5\n",
       "    table_id:                        Table day (01 February 2012) b6353e99198...\n",
       "    title:                           ACCESS1.3 model output prepared for CMIP...\n",
       "    parent_experiment:               pre-industrial control\n",
       "    modeling_realm:                  atmos\n",
       "    realization:                     1\n",
       "    cmor_version:                    2.8.0\n",
       "    DODS_EXTRA.Unlimited_Dimension:  time"
      ]
     },
     "execution_count": 6,
     "metadata": {},
     "output_type": "execute_result"
    }
   ],
   "source": [
    "ds"
   ]
  },
  {
   "cell_type": "markdown",
   "metadata": {},
   "source": [
    "Note also that extra information in the data variables section\n",
    "\n",
    "`dask.array<shape=(27393, 145, 192), chunksize=(9131, 145, 192)>`\n",
    "\n",
    "Dask is beyond the scope of this introduction, but xarray has assigned a dask chunking to the data variables as they are split across files. In particular the `time` dimension is split into three with 9131 values per file.\n",
    "\n",
    "Regardless of chunking, this data set can be used as if it were a single file for the purposes of manipulations and calculations."
   ]
  },
  {
   "cell_type": "markdown",
   "metadata": {},
   "source": [
    "Now it is possible to specify a spatial subset containing Australia, using `sel`"
   ]
  },
  {
   "cell_type": "code",
   "execution_count": 7,
   "metadata": {},
   "outputs": [
    {
     "data": {
      "text/plain": [
       "<xarray.DataArray 'tas' (time: 27393, lat: 37, lon: 27)>\n",
       "dask.array<shape=(27393, 37, 27), dtype=float32, chunksize=(9131, 37, 27)>\n",
       "Coordinates:\n",
       "  * lat      (lat) float64 -50.0 -48.75 -47.5 -46.25 ... -8.75 -7.5 -6.25 -5.0\n",
       "  * lon      (lon) float64 110.6 112.5 114.4 116.2 ... 153.8 155.6 157.5 159.4\n",
       "    height   float64 1.5\n",
       "  * time     (time) datetime64[ns] 1850-01-01T12:00:00 ... 1924-12-31T12:00:00\n",
       "Attributes:\n",
       "    standard_name:     air_temperature\n",
       "    long_name:         Near-Surface Air Temperature\n",
       "    units:             K\n",
       "    cell_methods:      time: mean\n",
       "    cell_measures:     area: areacella\n",
       "    associated_files:  baseURL: http://cmip-pcmdi.llnl.gov/CMIP5/dataLocation..."
      ]
     },
     "execution_count": 7,
     "metadata": {},
     "output_type": "execute_result"
    }
   ],
   "source": [
    "tas_aus = ds.tas.sel(lat=slice(-50,-5), lon=slice(110,160))\n",
    "tas_aus"
   ]
  },
  {
   "cell_type": "markdown",
   "metadata": {},
   "source": [
    "Confirm it is correct by plotting the first time point"
   ]
  },
  {
   "cell_type": "code",
   "execution_count": 8,
   "metadata": {},
   "outputs": [
    {
     "data": {
      "text/plain": [
       "<matplotlib.collections.QuadMesh at 0x7f6941f53d30>"
      ]
     },
     "execution_count": 8,
     "metadata": {},
     "output_type": "execute_result"
    },
    {
     "data": {
      "image/png": "[encoded data removed]",
      "text/plain": [
       "<Figure size 648x432 with 2 Axes>"
      ]
     },
     "metadata": {
      "needs_background": "light"
     },
     "output_type": "display_data"
    }
   ],
   "source": [
    "tas_aus.isel(time=0).plot(size=6)"
   ]
  },
  {
   "cell_type": "markdown",
   "metadata": {},
   "source": [
    "So `tas_aus` is a 75 year daily temperature dataset of Australia. Any calculation can now be performed, e.g. analysing variability in space, time, season ... there are many possibilities"
   ]
  },
  {
   "cell_type": "code",
   "execution_count": null,
   "metadata": {},
   "outputs": [],
   "source": []
  }
 ],
 "metadata": {
  "kernelspec": {
   "display_name": "Python [conda env:analysis3-19.07]",
   "language": "python",
   "name": "conda-env-analysis3-19.07-py"
  },
  "language_info": {
   "codemirror_mode": {
    "name": "ipython",
    "version": 3
   },
   "file_extension": ".py",
   "mimetype": "text/x-python",
   "name": "python",
   "nbconvert_exporter": "python",
   "pygments_lexer": "ipython3",
   "version": "3.6.7"
  }
 },
 "nbformat": 4,
 "nbformat_minor": 2
}
