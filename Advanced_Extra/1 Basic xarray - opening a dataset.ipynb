{
 "cells": [
  {
   "cell_type": "markdown",
   "metadata": {},
   "source": [
    "# Introduction to xarray"
   ]
  },
  {
   "cell_type": "markdown",
   "metadata": {},
   "source": [
    "This is an introduction to the python package [xarray](http://xarray.pydata.org/en/stable/):\n",
    "\n",
    "> Xarray introduces labels in the form of dimensions, coordinates and attributes on top of raw NumPy-like arrays, which allows for a more intuitive, more concise, and less error-prone developer experience. The package includes a large and growing library of domain-agnostic functions for advanced analytics and visualization with these data structures.\n",
    "\n",
    "> Xarray was inspired by and borrows heavily from pandas, the popular data analysis package focused on labelled tabular data. It is particularly tailored to working with netCDF files, which were the source of xarray’s data model, and integrates tightly with dask for parallel computing.\n",
    "\n",
    "In particular this series is focussed on using xarray for analysing climate data stored in netCDF files.\n",
    "\n",
    "These notebooks are an accompaniment to training videos in the [CLEX CMS youtube channel](https://www.youtube.com/channel/UCSmoK6oWV9O0Hmyt9UdDNsQ)\n",
    "\n",
    "The series consists of notebooks and videos\n",
    "\n",
    "1. Reading data and associated metadata from a netCDF file into an xarray dataset\n",
    "2. Subsetting a dataset by time and space\n",
    "3. Plotting\n",
    "4. Calculating metrics, e.g. mean, maximum\n",
    "5. Grouping and resampling in time\n",
    "6. Masking\n",
    "7. Opening multiple files as a single dataset\n",
    "8. Saving dataset to netCDF\n"
   ]
  },
  {
   "cell_type": "markdown",
   "metadata": {},
   "source": [
    "# Opening a dataset"
   ]
  },
  {
   "cell_type": "markdown",
   "metadata": {},
   "source": [
    "An xarray [dataset](http://xarray.pydata.org/en/stable/data-structures.html#dataset) is a container for data and it's associated metadata, including labelled coordinates.\n",
    "\n",
    "First step, import the xarray package"
   ]
  },
  {
   "cell_type": "code",
   "execution_count": 1,
   "metadata": {},
   "outputs": [],
   "source": [
    "import xarray"
   ]
  },
  {
   "cell_type": "markdown",
   "metadata": {},
   "source": [
    "When opening a netCDF file, the file metadata is read and stored as an `xarray.DataSet`. In this case the file is accessed via an [OpenDap](https://www.opendap.org) server so it is universally accessible. The equivalent command if the netCDF file was saved in the same directory as the notebook is shown commented out for reference"
   ]
  },
  {
   "cell_type": "code",
   "execution_count": 2,
   "metadata": {},
   "outputs": [],
   "source": [
    "# open with OpenDap URL\n",
    "ds = xarray.open_dataset('http://dapds00.nci.org.au/thredds/dodsC/rr3/CMIP5/output1/CSIRO-BOM/ACCESS1-3/historical/mon/atmos/Amon/r1i1p1/latest/tas/tas_Amon_ACCESS1-3_historical_r1i1p1_185001-200512.nc')\n",
    "# open on local filesystem\n",
    "# ds = xarray.open_dataset('tas_Amon_ACCESS1-3_historical_r1i1p1_185001-200512.nc')"
   ]
  },
  {
   "cell_type": "markdown",
   "metadata": {},
   "source": [
    "The metadata for this dataset is now stored in the variable `ds`. A more informative name could be chosen, but `ds` is fast to type! To examine the contents it is sufficient to just put the variable name in a cell and evaluate it, which is equivalent to `print(ds)` in a python program"
   ]
  },
  {
   "cell_type": "code",
   "execution_count": 3,
   "metadata": {},
   "outputs": [
    {
     "data": {
      "text/plain": [
       "<xarray.Dataset>\n",
       "Dimensions:    (bnds: 2, lat: 145, lon: 192, time: 1872)\n",
       "Coordinates:\n",
       "  * time       (time) datetime64[ns] 1850-01-16T12:00:00 ... 2005-12-16T12:00:00\n",
       "  * lat        (lat) float64 -90.0 -88.75 -87.5 -86.25 ... 86.25 87.5 88.75 90.0\n",
       "  * lon        (lon) float64 0.0 1.875 3.75 5.625 ... 352.5 354.4 356.2 358.1\n",
       "    height     float64 ...\n",
       "Dimensions without coordinates: bnds\n",
       "Data variables:\n",
       "    time_bnds  (time, bnds) datetime64[ns] ...\n",
       "    lat_bnds   (lat, bnds) float64 ...\n",
       "    lon_bnds   (lon, bnds) float64 ...\n",
       "    tas        (time, lat, lon) float32 ...\n",
       "Attributes:\n",
       "    institution:                     CSIRO (Commonwealth Scientific and Indus...\n",
       "    institute_id:                    CSIRO-BOM\n",
       "    experiment_id:                   historical\n",
       "    source:                          ACCESS1-3 2011. Atmosphere: AGCM v1.0 (N...\n",
       "    model_id:                        ACCESS1.3\n",
       "    forcing:                         GHG, Oz, SA, Sl, Vl, BC, OC, (GHG = CO2,...\n",
       "    parent_experiment_id:            piControl\n",
       "    parent_experiment_rip:           r1i1p1\n",
       "    branch_time:                     90945.0\n",
       "    contact:                         The ACCESS wiki: http://wiki.csiro.au/co...\n",
       "    history:                         Fri Apr 13 09:38:12 2012: ncatted -a for...\n",
       "    references:                      See http://wiki.csiro.au/confluence/disp...\n",
       "    initialization_method:           1\n",
       "    physics_version:                 1\n",
       "    tracking_id:                     7f51888d-7daa-45b3-b568-9ce3288b333d\n",
       "    version_number:                  v20120413\n",
       "    product:                         output\n",
       "    experiment:                      historical\n",
       "    frequency:                       mon\n",
       "    creation_date:                   2012-02-05T23:50:03Z\n",
       "    Conventions:                     CF-1.4\n",
       "    project_id:                      CMIP5\n",
       "    table_id:                        Table Amon (27 April 2011) 9c851218e3842...\n",
       "    title:                           ACCESS1-3 model output prepared for CMIP...\n",
       "    parent_experiment:               pre-industrial control\n",
       "    modeling_realm:                  atmos\n",
       "    realization:                     1\n",
       "    cmor_version:                    2.8.0\n",
       "    DODS_EXTRA.Unlimited_Dimension:  time"
      ]
     },
     "execution_count": 3,
     "metadata": {},
     "output_type": "execute_result"
    }
   ],
   "source": [
    "ds"
   ]
  },
  {
   "cell_type": "markdown",
   "metadata": {},
   "source": [
    "There are four sections to note: `Dimensions`, `Coordinates`, `Data variables` and `Attributes`.\n",
    "\n",
    "`Dimensions` give the size of each named dimension. This is a CF-compliant (http://cfconventions.org) dataset, which means any variable which has the same name as a dimension is assumed to be a coordinate. There are other metadata which may be used to denote a coordinate. In this case `xarray` signifies coordinates associated with variables with `*`.\n",
    "\n",
    "`Data variables` lists all the variables that are not coordinates. In this case three of them are bounds variables, definining the beginning and end values for the three coordinates. The only true data variables is `tas`."
   ]
  },
  {
   "cell_type": "markdown",
   "metadata": {},
   "source": [
    "# Accessing the data"
   ]
  },
  {
   "cell_type": "markdown",
   "metadata": {},
   "source": [
    "The `open_dataset` command only reads the metadata from the netCDF file. It does not attempt to read any data until there is an operation that requires this.\n",
    "\n",
    "The `xarray.DataSet` object has a number of methods for accessing the coordinates, attributes and data. The data variables are saved in a `dict`-like structure, `ds.data_vars`:"
   ]
  },
  {
   "cell_type": "code",
   "execution_count": 4,
   "metadata": {},
   "outputs": [
    {
     "data": {
      "text/plain": [
       "Data variables:\n",
       "    time_bnds  (time, bnds) datetime64[ns] ...\n",
       "    lat_bnds   (lat, bnds) float64 ...\n",
       "    lon_bnds   (lon, bnds) float64 ...\n",
       "    tas        (time, lat, lon) float32 ..."
      ]
     },
     "execution_count": 4,
     "metadata": {},
     "output_type": "execute_result"
    }
   ],
   "source": [
    "ds.data_vars"
   ]
  },
  {
   "cell_type": "markdown",
   "metadata": {},
   "source": [
    "It is possible to loop over the data variables just by looping over the dataset, which returns each variable name in turn:"
   ]
  },
  {
   "cell_type": "code",
   "execution_count": 5,
   "metadata": {},
   "outputs": [
    {
     "name": "stdout",
     "output_type": "stream",
     "text": [
      "time_bnds\n",
      "lat_bnds\n",
      "lon_bnds\n",
      "tas\n"
     ]
    }
   ],
   "source": [
    "for varname in ds:\n",
    "    print(varname)"
   ]
  },
  {
   "cell_type": "markdown",
   "metadata": {},
   "source": [
    "An individual variable can be accessed using it's name, either as a `dict` like key"
   ]
  },
  {
   "cell_type": "code",
   "execution_count": 6,
   "metadata": {},
   "outputs": [
    {
     "data": {
      "text/plain": [
       "<xarray.DataArray 'tas' (time: 1872, lat: 145, lon: 192)>\n",
       "[52116480 values with dtype=float32]\n",
       "Coordinates:\n",
       "  * time     (time) datetime64[ns] 1850-01-16T12:00:00 ... 2005-12-16T12:00:00\n",
       "  * lat      (lat) float64 -90.0 -88.75 -87.5 -86.25 ... 86.25 87.5 88.75 90.0\n",
       "  * lon      (lon) float64 0.0 1.875 3.75 5.625 7.5 ... 352.5 354.4 356.2 358.1\n",
       "    height   float64 ...\n",
       "Attributes:\n",
       "    standard_name:     air_temperature\n",
       "    long_name:         Near-Surface Air Temperature\n",
       "    units:             K\n",
       "    cell_methods:      time: mean\n",
       "    cell_measures:     area: areacella\n",
       "    history:           2012-02-05T23:49:51Z altered by CMOR: Treated scalar d...\n",
       "    associated_files:  baseURL: http://cmip-pcmdi.llnl.gov/CMIP5/dataLocation..."
      ]
     },
     "execution_count": 6,
     "metadata": {},
     "output_type": "execute_result"
    }
   ],
   "source": [
    "ds['tas']"
   ]
  },
  {
   "cell_type": "markdown",
   "metadata": {},
   "source": [
    "For ease of use xarray also provides access to data variables as a python attribute"
   ]
  },
  {
   "cell_type": "code",
   "execution_count": 7,
   "metadata": {},
   "outputs": [
    {
     "data": {
      "text/plain": [
       "<xarray.DataArray 'tas' (time: 1872, lat: 145, lon: 192)>\n",
       "[52116480 values with dtype=float32]\n",
       "Coordinates:\n",
       "  * time     (time) datetime64[ns] 1850-01-16T12:00:00 ... 2005-12-16T12:00:00\n",
       "  * lat      (lat) float64 -90.0 -88.75 -87.5 -86.25 ... 86.25 87.5 88.75 90.0\n",
       "  * lon      (lon) float64 0.0 1.875 3.75 5.625 7.5 ... 352.5 354.4 356.2 358.1\n",
       "    height   float64 ...\n",
       "Attributes:\n",
       "    standard_name:     air_temperature\n",
       "    long_name:         Near-Surface Air Temperature\n",
       "    units:             K\n",
       "    cell_methods:      time: mean\n",
       "    cell_measures:     area: areacella\n",
       "    history:           2012-02-05T23:49:51Z altered by CMOR: Treated scalar d...\n",
       "    associated_files:  baseURL: http://cmip-pcmdi.llnl.gov/CMIP5/dataLocation..."
      ]
     },
     "execution_count": 7,
     "metadata": {},
     "output_type": "execute_result"
    }
   ],
   "source": [
    "ds.tas"
   ]
  },
  {
   "cell_type": "markdown",
   "metadata": {},
   "source": [
    "So `ds.tas` is an `xarray.DataArray` and has it's own metadata giving more information about the variable itself. In this case it is near-surface air temperature in Kelvin."
   ]
  },
  {
   "cell_type": "code",
   "execution_count": null,
   "metadata": {},
   "outputs": [],
   "source": []
  }
 ],
 "metadata": {
  "kernelspec": {
   "display_name": "Python [conda env:analysis3-19.07]",
   "language": "python",
   "name": "conda-env-analysis3-19.07-py"
  },
  "language_info": {
   "codemirror_mode": {
    "name": "ipython",
    "version": 3
   },
   "file_extension": ".py",
   "mimetype": "text/x-python",
   "name": "python",
   "nbconvert_exporter": "python",
   "pygments_lexer": "ipython3",
   "version": "3.6.7"
  }
 },
 "nbformat": 4,
 "nbformat_minor": 2
}
